{
  "nbformat": 4,
  "nbformat_minor": 0,
  "metadata": {
    "colab": {
      "provenance": [],
      "authorship_tag": "ABX9TyPsB0wUubmyj8sGxqMGBiIW",
      "include_colab_link": true
    },
    "kernelspec": {
      "name": "python3",
      "display_name": "Python 3"
    },
    "language_info": {
      "name": "python"
    }
  },
  "cells": [
    {
      "cell_type": "markdown",
      "metadata": {
        "id": "view-in-github",
        "colab_type": "text"
      },
      "source": [
        "<a href=\"https://colab.research.google.com/github/sharmaamey/demoproject/blob/main/Evaluserve_submission.ipynb\" target=\"_parent\"><img src=\"https://colab.research.google.com/assets/colab-badge.svg\" alt=\"Open In Colab\"/></a>"
      ]
    },
    {
      "cell_type": "markdown",
      "source": [
        "Import Libraries"
      ],
      "metadata": {
        "id": "mR6n5PVlWPB_"
      }
    },
    {
      "cell_type": "code",
      "source": [
        "import pandas as pd\n",
        "import numpy as np\n",
        "import datetime\n"
      ],
      "metadata": {
        "id": "7HSK7OI4WNlC"
      },
      "execution_count": 62,
      "outputs": []
    },
    {
      "cell_type": "markdown",
      "source": [
        "Data input function"
      ],
      "metadata": {
        "id": "6AA2khcZWVHS"
      }
    },
    {
      "cell_type": "code",
      "source": [
        "\n",
        "\n",
        "# Step 2: Load Input Data\n",
        "def load_input_data(file_path):\n",
        "    df = pd.read_excel(file_path, sheet_name=\"Strategy\")\n",
        "    holidays = pd.read_excel(file_path, sheet_name=\"Holidays\")\n",
        "    return df, holidays"
      ],
      "metadata": {
        "id": "tB-zVAw-Gdum"
      },
      "execution_count": 63,
      "outputs": []
    },
    {
      "cell_type": "markdown",
      "source": [
        "Data cleaning preprocessing"
      ],
      "metadata": {
        "id": "4otCuMFhWap4"
      }
    },
    {
      "cell_type": "code",
      "source": [
        "# Clean and process data\n",
        "\n",
        "def clean_data(data, holidays):\n",
        "\n",
        "\n",
        "    data.columns = data.iloc[0]\n",
        "\n",
        "    # Drop the first row since it's now the column names\n",
        "    data = data[1:]\n",
        "\n",
        "    # Reset the index if needed\n",
        "    data.reset_index(drop=True, inplace=True)\n",
        "    data.dropna(inplace=True)\n",
        "\n",
        "    holidays = holidays[['London Holidays']]\n",
        "\n",
        "\n",
        "    # Assuming 'Date' is the datetime column\n",
        "    data['Date'] = pd.to_datetime(data['Date']).copy()\n",
        "    data['Date'] = data['Date'] = data['Date'].dt.date.copy()\n",
        "\n",
        "    # Now, 'Date' column only contains the date portion\n",
        "\n",
        "    return data, holidays\n",
        "\n"
      ],
      "metadata": {
        "id": "NFPqrzaFGffQ"
      },
      "execution_count": 64,
      "outputs": []
    },
    {
      "cell_type": "markdown",
      "source": [
        "Function to caqlculate index levels and store final output and intermediate output files"
      ],
      "metadata": {
        "id": "hWyiiqR_Wfoz"
      }
    },
    {
      "cell_type": "code",
      "source": [
        "#Function for Index Levels\n",
        "\n",
        "\n",
        "def index_level(main_df, holidays, underlying_data, J0, t0, n, output_csv_filename):\n",
        "    # ... (the rest of your code)\n",
        "     # Initliasing variables for calculations\n",
        "    count = 0\n",
        "    prev_month = None\n",
        "    printed_month = None\n",
        "    R_date = t0\n",
        "    last_date = t0\n",
        "    Jr = J0\n",
        "    result_dates = []\n",
        "    result_Jt = []\n",
        "\n",
        "    main_df = main_df[main_df['Date'] >= t0]\n",
        "\n",
        "    # Extract London Holidays from the Holidays DataFrame\n",
        "    london_holidays = holidays['London Holidays'].tolist()\n",
        "\n",
        "    # Create a list to store intermediate results\n",
        "    intermediate_results = []\n",
        "\n",
        "    # Iterate through the DataFrame\n",
        "    for index, row in main_df.iterrows():\n",
        "        t_date = row['Date']  # Date for index calculation\n",
        "        m = (t_date - last_date).days if last_date else 1\n",
        "        last_date = t_date\n",
        "\n",
        "        # Check if t_date is a London holiday\n",
        "        if t_date in london_holidays:\n",
        "            # If it's a holiday, skip this date for index calculation\n",
        "            continue\n",
        "\n",
        "        # Check if t_date's month is in [1, 4, 7, 10]\n",
        "        if t_date.month in [1, 4, 7, 10]:\n",
        "            current_month = t_date.month\n",
        "\n",
        "            # If a new month is encountered, reset count and prev_month\n",
        "            if current_month != prev_month:\n",
        "                count = 1  # Start counting from 1 for the new month\n",
        "                prev_month = current_month\n",
        "                printed_month = None  # Reset printed_month\n",
        "            else:\n",
        "                count += 1\n",
        "\n",
        "            # Check if count is 8 and it's the first time in this month\n",
        "            if count == 8 and printed_month != current_month:\n",
        "                # Calculate new Jr\n",
        "                Jx = Jr * (1 + np.sum([underlying_data[f'Underlying{k}'][\"Weight\"] *\n",
        "                                       (main_df.loc[main_df['Date'] == t_date][f'Underlying{k}'].values[0] /\n",
        "                                        main_df.loc[main_df['Date'] == R_date][f'Underlying{k}'].values[0] - 1)\n",
        "                                       for k in range(1, n + 1)])) * (1 - np.sum([underlying_data[f'Underlying{k}'][\"Rebalance Cost\"] * m / 220\n",
        "                                                                                  for k in range(1, n + 1)]))\n",
        "\n",
        "                # Update Jr\n",
        "                Jr = Jx\n",
        "                # Update R_date\n",
        "                R_date = t_date\n",
        "                # Update variables at the end of statements\n",
        "                printed_month = current_month\n",
        "                count = 0\n",
        "\n",
        "\n",
        "\n",
        "        # Calculate Jt\n",
        "        if t_date == t0:\n",
        "            Jt = J0\n",
        "            result_dates.append(t_date)\n",
        "            result_Jt.append(Jt)\n",
        "        else:\n",
        "            Jt = Jr * (1 + np.sum([\n",
        "                underlying_data[f'Underlying{k}'][\"Weight\"] *\n",
        "                (main_df.loc[main_df['Date'] == t_date][f'Underlying{k}'].values[0] /\n",
        "                 main_df.loc[main_df['Date'] == R_date][f'Underlying{k}'].values[0] - 1)\n",
        "                for k in range(1, n + 1)\n",
        "            ])) * (1 - np.sum([\n",
        "                underlying_data[f'Underlying{k}'][\"Rebalance Cost\"] * m / 220\n",
        "                for k in range(1, n + 1)\n",
        "            ]))\n",
        "\n",
        "            # Add Jt\n",
        "            result_dates.append(t_date)\n",
        "            result_Jt.append(Jt)\n",
        "            # Create a dictionary to store intermediate values for this date\n",
        "            intermediate_values = {\n",
        "                'Date': t_date,\n",
        "                'Intermediate Refernce Index Level': Jr,\n",
        "                'Index Level': Jt,\n",
        "                'Number of days': m\n",
        "            }\n",
        "\n",
        "            # Collect the values used in Jt calculation for each 'k'\n",
        "            for k in range(1, n + 1):\n",
        "                weight = underlying_data[f'Underlying{k}'][\"Weight\"]\n",
        "                value_t = main_df.loc[main_df['Date'] == t_date][f'Underlying{k}'].values[0]\n",
        "                value_R = main_df.loc[main_df['Date'] == R_date][f'Underlying{k}'].values[0]\n",
        "                rebalance_cost = underlying_data[f'Underlying{k}'][\"Rebalance Cost\"]\n",
        "\n",
        "                intermediate_values[f'Weight_{k}'] = weight\n",
        "                intermediate_values[f'Underlying_t_{k}'] = value_t\n",
        "                intermediate_values[f'Underlying_R_{k}'] = value_R\n",
        "                intermediate_values[f'Rebalance_Cost_{k}'] = rebalance_cost\n",
        "\n",
        "            # Append the intermediate values to the list\n",
        "            intermediate_results.append(intermediate_values)\n",
        "\n",
        "\n",
        "\n",
        "\n",
        "    # Create a DataFrame with Jt and dates\n",
        "    result_df = pd.DataFrame({'Date': result_dates, 'Index Levels': result_Jt})\n",
        "\n",
        "    # Save the final result to a CSV file\n",
        "    result_df.to_csv(output_csv_filename, index=False)\n",
        "\n",
        "    # Save intermediate results to a separate CSV file\n",
        "    intermediate_df = pd.DataFrame(intermediate_results)\n",
        "    intermediate_df.to_csv('intermediate_results.csv', index=False)\n",
        "\n",
        "    return result_df\n"
      ],
      "metadata": {
        "id": "p5AuTVE7VZw4"
      },
      "execution_count": 65,
      "outputs": []
    },
    {
      "cell_type": "code",
      "source": [
        "\n",
        "\n",
        "def calculate_annualized_returns(index_df, tenors):\n",
        "    annualized_returns = {}\n",
        "\n",
        "    # Calculate ILDtt and ILt (latest values)\n",
        "    ILDtt = index_df['Index Levels'].iloc[-1]\n",
        "    ILt = ILDtt  # ILt is the same as ILDtt on the latest day\n",
        "\n",
        "    for tenor in tenors:\n",
        "        if tenor == 'All':\n",
        "            # For 'All', use the entire dataset\n",
        "            ILDtt_nY = index_df['Index Levels'].iloc[0]\n",
        "        else:\n",
        "            # Calculate ILDtt-nY based on the tenor\n",
        "            nY = int(tenor.replace('Year', ''))\n",
        "            ILDtt_nY_index = max(0, len(index_df) - nY * 252)\n",
        "            ILDtt_nY = index_df['Index Levels'].iloc[ILDtt_nY_index]\n",
        "\n",
        "        # Calculate the annualized return based on the formula\n",
        "        annualized_return = ((ILt / ILDtt_nY) ** (365.25 / len(index_df))) - 1\n",
        "\n",
        "        annualized_returns[tenor] = annualized_return * 100  # Convert to percentage\n",
        "        annualized_returns_df = pd.DataFrame.from_dict(annualized_returns, orient=\"index\", columns=[\"Annualized Return (%)\"])\n",
        "\n",
        "    return annualized_returns_df\n",
        "\n",
        "#annualized_returns = calculate_annualized_returns(index_df, tenors)\n"
      ],
      "metadata": {
        "id": "aC44FjSUGg9A"
      },
      "execution_count": 66,
      "outputs": []
    },
    {
      "cell_type": "markdown",
      "source": [
        "Function to calculate annualised risk"
      ],
      "metadata": {
        "id": "BZAvVd6PWtGx"
      }
    },
    {
      "cell_type": "code",
      "source": [
        "def calculate_annualized_risk(index_df, tenors):\n",
        "    # Calculate one-day return series: (ILt / ILt-1) - 1\n",
        "    index_df['Return'] = index_df['Index Levels'].pct_change()\n",
        "\n",
        "    annualized_risks = {}\n",
        "\n",
        "    for tenor in tenors:\n",
        "        if tenor == 'All':\n",
        "            # For 'All', use the entire return series\n",
        "            returns = index_df['Return']\n",
        "        else:\n",
        "            # Calculate the number of days based on the tenor\n",
        "            nY = int(tenor.replace('Year', ''))\n",
        "            days = nY * 252  # Assuming 252 trading days in a year\n",
        "\n",
        "            # Use the last 'days' of return data for the specified tenor\n",
        "            returns = index_df['Return'].tail(days)\n",
        "\n",
        "        # Calculate annualized standard deviation for the tenor\n",
        "        annualized_risk = returns.std() * (252 ** 0.5)\n",
        "\n",
        "        annualized_risks[tenor] = annualized_risk\n",
        "        annualized_risks_df = pd.DataFrame.from_dict(annualized_risks, orient=\"index\", columns=[\"Annualized Risk\"])\n",
        "\n",
        "    return annualized_risks_df\n",
        "\n",
        "\n",
        "#annualized_risks = calculate_annualized_risk(index_df, tenors)\n"
      ],
      "metadata": {
        "id": "9OjWd-wuGunD"
      },
      "execution_count": 67,
      "outputs": []
    },
    {
      "cell_type": "markdown",
      "source": [
        "main function"
      ],
      "metadata": {
        "id": "aedeXkUbYMFI"
      }
    },
    {
      "cell_type": "code",
      "source": [
        "\n",
        "\n",
        "def main():\n",
        "    file_path = \"data.xlsx\"\n",
        "    data, holidays = load_input_data(file_path)\n",
        "    main_df, holiday = clean_data(data, holidays)\n",
        "\n",
        "    # Weights and rebalancing fractions\n",
        "    underlying_data = {\n",
        "        \"Underlying1\": {\"Weight\": 0.1, \"Rebalance Cost\": 0.005},\n",
        "        \"Underlying2\": {\"Weight\": 0.2, \"Rebalance Cost\": 0.0025},\n",
        "        \"Underlying3\": {\"Weight\": 0.15, \"Rebalance Cost\": 0.001},\n",
        "        \"Underlying4\": {\"Weight\": 0.05, \"Rebalance Cost\": 0.001},\n",
        "        \"Underlying5\": {\"Weight\": 0.3, \"Rebalance Cost\": 0.0025},\n",
        "        \"Underlying6\": {\"Weight\": 0.2, \"Rebalance Cost\": 0.0025},\n",
        "    }\n",
        "\n",
        "    J0 = 100  # base index level\n",
        "    t0 = datetime.datetime(2021, 1, 12).date()  # base date\n",
        "    Jr = J0  # initializing Jr as J0\n",
        "    n = 6  # Number of underlyings\n",
        "\n",
        "    tenors = ['1Year', '2Year', '3Year', '5Year', 'All']\n",
        "\n",
        "    # Run index_level function and pass its result to the next functions\n",
        "    index_df = index_level(main_df, holiday, underlying_data, J0, t0, n, 'output.csv')\n",
        "\n",
        "    # Run calculate_annualized_risk function and pass its result to the next function\n",
        "    annualized_risks = calculate_annualized_risk(index_df, tenors)\n",
        "\n",
        "    # Run calculate_annualized_returns function\n",
        "    annualized_returns = calculate_annualized_returns(index_df, tenors)\n",
        "\n",
        "\n",
        "    print(annualized_risks)\n",
        "    print(annualized_returns)\n",
        "\n",
        "if __name__ == \"__main__\":\n",
        "    main()\n"
      ],
      "metadata": {
        "colab": {
          "base_uri": "https://localhost:8080/"
        },
        "id": "vNjuERCSGwhT",
        "outputId": "febd82b9-f848-4928-eb7a-fb6ae7c3a112"
      },
      "execution_count": 68,
      "outputs": [
        {
          "output_type": "stream",
          "name": "stderr",
          "text": [
            "<ipython-input-64-e5debbe51cc8>:13: SettingWithCopyWarning: \n",
            "A value is trying to be set on a copy of a slice from a DataFrame\n",
            "\n",
            "See the caveats in the documentation: https://pandas.pydata.org/pandas-docs/stable/user_guide/indexing.html#returning-a-view-versus-a-copy\n",
            "  data.dropna(inplace=True)\n",
            "<ipython-input-64-e5debbe51cc8>:19: SettingWithCopyWarning: \n",
            "A value is trying to be set on a copy of a slice from a DataFrame.\n",
            "Try using .loc[row_indexer,col_indexer] = value instead\n",
            "\n",
            "See the caveats in the documentation: https://pandas.pydata.org/pandas-docs/stable/user_guide/indexing.html#returning-a-view-versus-a-copy\n",
            "  data['Date'] = pd.to_datetime(data['Date']).copy()\n",
            "<ipython-input-64-e5debbe51cc8>:20: SettingWithCopyWarning: \n",
            "A value is trying to be set on a copy of a slice from a DataFrame.\n",
            "Try using .loc[row_indexer,col_indexer] = value instead\n",
            "\n",
            "See the caveats in the documentation: https://pandas.pydata.org/pandas-docs/stable/user_guide/indexing.html#returning-a-view-versus-a-copy\n",
            "  data['Date'] = data['Date'] = data['Date'].dt.date.copy()\n",
            "<ipython-input-65-c923f56780a9>:31: FutureWarning: Comparison of Timestamp with datetime.date is deprecated in order to match the standard library behavior. In a future version these will be considered non-comparable. Use 'ts == pd.Timestamp(date)' or 'ts.date() == date' instead.\n",
            "  if t_date in london_holidays:\n"
          ]
        },
        {
          "output_type": "stream",
          "name": "stdout",
          "text": [
            "       Annualized Risk\n",
            "1Year         1.858339\n",
            "2Year         1.830042\n",
            "3Year         1.830042\n",
            "5Year         1.830042\n",
            "All           1.830042\n",
            "       Annualized Return (%)\n",
            "1Year              14.446726\n",
            "2Year              48.690408\n",
            "3Year              48.690408\n",
            "5Year              48.690408\n",
            "All                48.690408\n"
          ]
        }
      ]
    },
    {
      "cell_type": "code",
      "source": [],
      "metadata": {
        "id": "KX8NG1h5HYDK"
      },
      "execution_count": 68,
      "outputs": []
    },
    {
      "cell_type": "code",
      "source": [],
      "metadata": {
        "id": "F0iG2rirHZ41"
      },
      "execution_count": 68,
      "outputs": []
    }
  ]
}